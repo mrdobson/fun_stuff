{
  "nbformat": 4,
  "nbformat_minor": 0,
  "metadata": {
    "colab": {
      "name": "mj_channel_analytics.ipynb",
      "provenance": [],
      "authorship_tag": "ABX9TyMHOwpP/T3ORENju4d4mI2d",
      "include_colab_link": true
    },
    "kernelspec": {
      "name": "python3",
      "display_name": "Python 3"
    },
    "language_info": {
      "name": "python"
    }
  },
  "cells": [
    {
      "cell_type": "markdown",
      "metadata": {
        "id": "view-in-github",
        "colab_type": "text"
      },
      "source": [
        "<a href=\"https://colab.research.google.com/github/mrdobson/fun_stuff/blob/main/mj_channel_analytics.ipynb\" target=\"_parent\"><img src=\"https://colab.research.google.com/assets/colab-badge.svg\" alt=\"Open In Colab\"/></a>"
      ]
    },
    {
      "cell_type": "code",
      "metadata": {
        "id": "n9TmDDVNPQbc"
      },
      "source": [
        "%matplotlib inline\n",
        "import matplotlib.pyplot as plt\n",
        "import numpy as np\n",
        "import pandas as pd\n",
        "\n",
        "from sklearn.linear_model import LinearRegression\n",
        "from sklearn.pipeline import make_pipeline\n",
        "from sklearn.preprocessing import PolynomialFeatures\n",
        "from sklearn.model_selection import train_test_split\n",
        "from sklearn.metrics import mean_squared_error\n",
        "from sklearn.metrics import mean_absolute_error"
      ],
      "execution_count": null,
      "outputs": []
    },
    {
      "cell_type": "code",
      "metadata": {
        "id": "q3ZZoVIXQ1S9"
      },
      "source": [
        "# perform data load from github path \n",
        "url = 'https://raw.githubusercontent.com/mrdobson/fun_stuff/main/Channel%20Analytics%20and%20Revenue%20by%20day%20from%20Dec_1_2020%20to%20Jun_8_2021.csv'\n",
        "\n",
        "df1 = pd.read_csv(url, header=None)"
      ],
      "execution_count": null,
      "outputs": []
    },
    {
      "cell_type": "code",
      "metadata": {
        "colab": {
          "base_uri": "https://localhost:8080/"
        },
        "id": "rabtZKaIRKyc",
        "outputId": "325cff59-0b10-4567-9012-e32727d00d4d"
      },
      "source": [
        "print(df1.head(10))"
      ],
      "execution_count": null,
      "outputs": [
        {
          "output_type": "stream",
          "text": [
            "                                                   0\n",
            "0  Date,Ad Breaks (Minutes),Ad Time (Seconds) Per...\n",
            "1  Tue Dec 01 2020,0,0,0,0,0,0,0,0,0,0,0,0,0,0,0,...\n",
            "2  Wed Dec 02 2020,0,0,4.58,196,9,1,0,1,0,26,7,91...\n",
            "3  Thu Dec 03 2020,0,0,0,0,0,0,0,0,0,0,0,0,0,0,0,...\n",
            "4  Fri Dec 04 2020,0,0,3.29,254,9,0,0,0,0,27,5,61...\n",
            "5  Sat Dec 05 2020,0,0,0,0,0,0,0,0,0,0,0,0,0,0,0,...\n",
            "6  Sun Dec 06 2020,0,0,0,0,0,0,0,0,0,0,0,0,0,0,0,...\n",
            "7  Mon Dec 07 2020,0,0,0,0,0,0,0,0,0,0,0,0,0,0,0,...\n",
            "8  Tue Dec 08 2020,0,0,0,0,0,0,0,0,0,0,0,0,0,0,0,...\n",
            "9  Wed Dec 09 2020,0,0,4.56,323,8,2,1,0,0.1,25,8,...\n"
          ],
          "name": "stdout"
        }
      ]
    },
    {
      "cell_type": "code",
      "metadata": {
        "colab": {
          "base_uri": "https://localhost:8080/",
          "height": 650
        },
        "id": "oIBEc_gKXciw",
        "outputId": "e040d1da-7a06-49f6-c502-ee8c0322c552"
      },
      "source": [
        "print(df1.iloc[:, 3])\n",
        "\n",
        "# store col 3 into array\n",
        "data_x = df1.iloc[1:, 3].tolist()\n",
        " \n",
        "# convert data_x to float vals\n",
        "data_x = [float(i) for i in data_x]\n",
        "\n",
        "# convert both data lists to np arrays\n",
        "data_x = np.array(data_x)\n",
        "\n",
        "# remove zeros test\n",
        "data_x = np.delete(data_x, np.where(data_x==0))\n",
        "#data_x[data_x==0]=['nan'] # <- does not like this in model\n",
        "\n",
        "# generate y axis\n",
        "data_y = list(range(len(data_x)))\n",
        "data_y = np.array(data_y)\n",
        "\n",
        "print(data_x)\n",
        "print(data_y)\n",
        "plt.scatter(data_y, data_x)"
      ],
      "execution_count": null,
      "outputs": [
        {
          "output_type": "stream",
          "text": [
            "0      Average Viewers\n",
            "1                    0\n",
            "2                 4.58\n",
            "3                    0\n",
            "4                 3.29\n",
            "            ...       \n",
            "186              11.51\n",
            "187                  0\n",
            "188                  0\n",
            "189                  0\n",
            "190              15.42\n",
            "Name: 3, Length: 191, dtype: object\n",
            "[ 4.58  3.29  4.56  5.91  2.48  4.1   2.75  3.35  4.55  4.07  3.85  3.74\n",
            "  4.17  8.64  6.1   6.17  5.55  6.17  6.07  5.74  9.65  6.62  6.16  3.74\n",
            "  2.68  7.11  3.83  5.15  6.7   6.31  6.77  9.7   7.44  5.94  6.55  6.23\n",
            "  4.65  7.32 10.84  6.61  7.06  7.67  8.21  5.84  7.85  4.5   4.26  9.05\n",
            "  7.48 10.11  9.35  5.93  7.82  6.18  8.03  9.94  7.98  4.53 12.34 11.99\n",
            " 13.16 14.62 14.14  8.09  8.27 13.8  13.98 11.51 15.42]\n",
            "[ 0  1  2  3  4  5  6  7  8  9 10 11 12 13 14 15 16 17 18 19 20 21 22 23\n",
            " 24 25 26 27 28 29 30 31 32 33 34 35 36 37 38 39 40 41 42 43 44 45 46 47\n",
            " 48 49 50 51 52 53 54 55 56 57 58 59 60 61 62 63 64 65 66 67 68]\n"
          ],
          "name": "stdout"
        },
        {
          "output_type": "execute_result",
          "data": {
            "text/plain": [
              "<matplotlib.collections.PathCollection at 0x7f140f1e0850>"
            ]
          },
          "metadata": {
            "tags": []
          },
          "execution_count": 74
        },
        {
          "output_type": "display_data",
          "data": {
            "image/png": "[encoded data removed]",
            "text/plain": [
              "<Figure size 432x288 with 1 Axes>"
            ]
          },
          "metadata": {
            "tags": [],
            "needs_background": "light"
          }
        }
      ]
    },
    {
      "cell_type": "code",
      "metadata": {
        "id": "KIBWxE7rjMYa"
      },
      "source": [
        "poly_model = make_pipeline(PolynomialFeatures(3), LinearRegression())   "
      ],
      "execution_count": null,
      "outputs": []
    },
    {
      "cell_type": "code",
      "metadata": {
        "colab": {
          "base_uri": "https://localhost:8080/",
          "height": 282
        },
        "id": "F9ATAxHNlq_a",
        "outputId": "baf6e541-7faa-40cc-d69f-76bcd3140a9e"
      },
      "source": [
        "xfit = np.linspace(0, 20, 1000)\n",
        "\n",
        "poly_model.fit(data_x[:, np.newaxis], data_y)  #fit with the original x in 1 dimension\n",
        "yfit = poly_model.predict(xfit[:, np.newaxis])\n",
        "\n",
        "plt.scatter(data_y, data_x)\n",
        "plt.plot(yfit, xfit)"
      ],
      "execution_count": null,
      "outputs": [
        {
          "output_type": "execute_result",
          "data": {
            "text/plain": [
              "[<matplotlib.lines.Line2D at 0x7f140f826e90>]"
            ]
          },
          "metadata": {
            "tags": []
          },
          "execution_count": 84
        },
        {
          "output_type": "display_data",
          "data": {
            "image/png": "[encoded data removed]",
            "text/plain": [
              "<Figure size 432x288 with 1 Axes>"
            ]
          },
          "metadata": {
            "tags": [],
            "needs_background": "light"
          }
        }
      ]
    },
    {
      "cell_type": "code",
      "metadata": {
        "id": "a5xruEhxn-kI"
      },
      "source": [
        "|"
      ],
      "execution_count": null,
      "outputs": []
    }
  ]
}